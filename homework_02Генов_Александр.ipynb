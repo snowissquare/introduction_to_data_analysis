{
 "cells": [
  {
   "cell_type": "markdown",
   "metadata": {},
   "source": [
    "## Введение в анализ данных, ИАД-1\n",
    "\n",
    "## НИУ ВШЭ, 2018-19 учебный год"
   ]
  },
  {
   "cell_type": "markdown",
   "metadata": {},
   "source": [
    "### Домашнее задание №2"
   ]
  },
  {
   "cell_type": "markdown",
   "metadata": {},
   "source": [
    "Задание выполнил(а): Генов Александр"
   ]
  },
  {
   "cell_type": "markdown",
   "metadata": {},
   "source": [
    "### Общая информация"
   ]
  },
  {
   "cell_type": "markdown",
   "metadata": {},
   "source": [
    "__Дата выдачи:__ 25.02.2019\n",
    "\n",
    "__Дедлайн:__ 23:59 5.03.2019"
   ]
  },
  {
   "cell_type": "markdown",
   "metadata": {},
   "source": [
    "### О задании"
   ]
  },
  {
   "cell_type": "markdown",
   "metadata": {},
   "source": [
    "В данном домашнем задании вы реализуете линейную регрессию своими руками и сравните её с версией в scikit-learn."
   ]
  },
  {
   "cell_type": "markdown",
   "metadata": {},
   "source": [
    "### Оценивание и штрафы\n",
    "\n",
    "За сдачу задания позже срока на итоговую оценку за задание накладывается штраф в размере 1 балл в день, но получить отрицательную оценку нельзя."
   ]
  },
  {
   "cell_type": "markdown",
   "metadata": {},
   "source": [
    "__Внимание!__ Домашнее задание выполняется самостоятельно. «Похожие» решения считаются плагиатом и все задействованные студенты (в том числе те, у кого списали) не могут получить за него больше 0 баллов."
   ]
  },
  {
   "cell_type": "markdown",
   "metadata": {},
   "source": [
    "### Формат сдачи"
   ]
  },
  {
   "cell_type": "markdown",
   "metadata": {},
   "source": [
    "__Стирать условия нельзя!__\n",
    "\n",
    "Загрузка файлов с решениями происходит в системе [Anytask](https://anytask.org/).\n",
    "\n",
    "Формат названия файла: homework_02_Фамилия_Имя.ipynb"
   ]
  },
  {
   "cell_type": "markdown",
   "metadata": {},
   "source": [
    "## Часть 1. Обыкновенная линейная регрессия"
   ]
  },
  {
   "cell_type": "code",
   "execution_count": null,
   "metadata": {},
   "outputs": [],
   "source": [
    "import pandas as pd\n",
    "import matplotlib.pyplot as plt\n",
    "import numpy as np\n",
    "%matplotlib inline"
   ]
  },
  {
   "cell_type": "markdown",
   "metadata": {},
   "source": [
    "### 1 (4 балла). \n",
    "На семинаре мы начали реализовывать класс линейной регрессии; теперь необходимо его закончить. "
   ]
  },
  {
   "cell_type": "code",
   "execution_count": null,
   "metadata": {},
   "outputs": [],
   "source": [
    "class LinReg():\n",
    "    def __init__(self, step_size=0.1, num_steps=20, eps=1e-6):\n",
    "        self.w = None\n",
    "        self.step_size = step_size\n",
    "        self.num_steps = num_steps\n",
    "        self.eps = eps\n",
    "   \n",
    "    def __calc_grad(self, X_train, y_train):\n",
    "        self.w -= self.step_size * (np.dot(2 / X_train.shape[0] * X_train.T, np.transpose(np.dot(X_train, self.w)) - y_train))\n",
    "   \n",
    "    def fit(self, X_train, y_train):\n",
    "        self.w = np.zeros(X_train.shape[1])\n",
    "        for i in range(self.num_steps):\n",
    "            w_cur = self.w.copy()\n",
    "            self.__calc_grad(X_train,y_train)\n",
    "            if np.linalg.norm(self.w - w_cur) < self.eps:\n",
    "                break\n",
    "        return self\n",
    "       \n",
    "    def predict(self, X_test):\n",
    "        return np.dot(X_test, self.w)"
   ]
  },
  {
   "cell_type": "markdown",
   "metadata": {},
   "source": [
    "### 2 (3 балла). \n",
    "Проверим корректность работы класса на датасете Boston Housing. \n",
    "* Загрузите его из sklearn\n",
    "* Проведите предобработку данных(нормализация вещественных признаков, one-hot encoding категориальных)\n",
    "* Разделите на обучение и контроль в соотношении 80:20 с random_seed 42 (самый популярный в прошлом задании)\n",
    "* Обучите собственную реализацию регрессии и сравните по метрикам MAE и RMSE с LinearRegression из sklearn."
   ]
  },
  {
   "cell_type": "code",
   "execution_count": null,
   "metadata": {},
   "outputs": [],
   "source": [
    "from sklearn import linear_model\n",
    "from sklearn.cross_validation import train_test_split"
   ]
  },
  {
   "cell_type": "code",
   "execution_count": null,
   "metadata": {},
   "outputs": [],
   "source": [
    "from sklearn.datasets import load_boston"
   ]
  },
  {
   "cell_type": "code",
   "execution_count": null,
   "metadata": {},
   "outputs": [],
   "source": [
    "boston = load_boston()\n",
    "df = pd.DataFrame(boston.data, columns = boston.feature_names)\n",
    "df.describe()"
   ]
  },
  {
   "cell_type": "code",
   "execution_count": null,
   "metadata": {
    "scrolled": true
   },
   "outputs": [],
   "source": [
    "df.head()"
   ]
  },
  {
   "cell_type": "markdown",
   "metadata": {},
   "source": [
    "Все признаки являются вещественными, кроме 'CHAS'"
   ]
  },
  {
   "cell_type": "code",
   "execution_count": null,
   "metadata": {},
   "outputs": [],
   "source": [
    "numeric_column = boston.feature_names[boston.feature_names != 'CHAS'] "
   ]
  },
  {
   "cell_type": "markdown",
   "metadata": {},
   "source": [
    "Разделим на обучение и контроль в соотношении 80:20 с random_seed 42 "
   ]
  },
  {
   "cell_type": "code",
   "execution_count": 27,
   "metadata": {},
   "outputs": [],
   "source": [
    "X_train_0, X_test_0, y_train, y_test = train_test_split(df, boston.target, test_size=0.2, random_state = 42) #"
   ]
  },
  {
   "cell_type": "code",
   "execution_count": 28,
   "metadata": {},
   "outputs": [],
   "source": [
    "from future_encoders import ColumnTransformer\n",
    "from sklearn.preprocessing import OneHotEncoder,StandardScaler"
   ]
  },
  {
   "cell_type": "markdown",
   "metadata": {},
   "source": [
    "Проведем нормализация вещественных признаков и one-hot encoding категориальных"
   ]
  },
  {
   "cell_type": "code",
   "execution_count": 29,
   "metadata": {},
   "outputs": [
    {
     "name": "stdout",
     "output_type": "stream",
     "text": [
      "<class 'pandas.core.frame.DataFrame'>\n",
      "Int64Index: 404 entries, 477 to 102\n",
      "Data columns (total 13 columns):\n",
      "CRIM       404 non-null float64\n",
      "ZN         404 non-null float64\n",
      "INDUS      404 non-null float64\n",
      "CHAS       404 non-null float64\n",
      "NOX        404 non-null float64\n",
      "RM         404 non-null float64\n",
      "AGE        404 non-null float64\n",
      "DIS        404 non-null float64\n",
      "RAD        404 non-null float64\n",
      "TAX        404 non-null float64\n",
      "PTRATIO    404 non-null float64\n",
      "B          404 non-null float64\n",
      "LSTAT      404 non-null float64\n",
      "dtypes: float64(13)\n",
      "memory usage: 44.2 KB\n"
     ]
    }
   ],
   "source": [
    "tf = ColumnTransformer(transformers=[('Standard Scaler', StandardScaler(), numeric_column),('One Hot', OneHotEncoder(), ['CHAS'])\n",
    "])\n",
    "X_train = tf.fit_transform(X_train_0)\n",
    "X_test = tf.transform(X_test_0)\n",
    "X_train_0.info()"
   ]
  },
  {
   "cell_type": "code",
   "execution_count": 30,
   "metadata": {},
   "outputs": [
    {
     "data": {
      "text/plain": [
       "<__main__.LinReg at 0x22406ee1470>"
      ]
     },
     "execution_count": 30,
     "metadata": {},
     "output_type": "execute_result"
    }
   ],
   "source": [
    "myreg = LinReg(num_steps = 200)\n",
    "myreg.fit(X_train, y_train)"
   ]
  },
  {
   "cell_type": "code",
   "execution_count": 31,
   "metadata": {},
   "outputs": [],
   "source": [
    "from sklearn.linear_model import LinearRegression\n",
    "from sklearn.metrics import mean_squared_error\n",
    "from sklearn.metrics import mean_absolute_error"
   ]
  },
  {
   "cell_type": "code",
   "execution_count": 32,
   "metadata": {},
   "outputs": [
    {
     "data": {
      "text/plain": [
       "LinearRegression(copy_X=True, fit_intercept=True, n_jobs=1, normalize=False)"
      ]
     },
     "execution_count": 32,
     "metadata": {},
     "output_type": "execute_result"
    }
   ],
   "source": [
    "reg = LinearRegression()\n",
    "reg.fit(X_train, y_train)"
   ]
  },
  {
   "cell_type": "markdown",
   "metadata": {},
   "source": [
    "Сравнение по метрике RMSE с LinearRegression из sklearn."
   ]
  },
  {
   "cell_type": "code",
   "execution_count": 33,
   "metadata": {},
   "outputs": [
    {
     "data": {
      "text/plain": [
       "4.9473295256789624"
      ]
     },
     "execution_count": 33,
     "metadata": {},
     "output_type": "execute_result"
    }
   ],
   "source": [
    "np.sqrt(mean_squared_error(myreg.predict(X_test), y_test))"
   ]
  },
  {
   "cell_type": "code",
   "execution_count": 34,
   "metadata": {},
   "outputs": [
    {
     "data": {
      "text/plain": [
       "4.930661915979771"
      ]
     },
     "execution_count": 34,
     "metadata": {},
     "output_type": "execute_result"
    }
   ],
   "source": [
    "np.sqrt(mean_squared_error(reg.predict(X_test), y_test))"
   ]
  },
  {
   "cell_type": "markdown",
   "metadata": {},
   "source": [
    "Сравнение по метрике MAE с LinearRegression из sklearn."
   ]
  },
  {
   "cell_type": "code",
   "execution_count": 35,
   "metadata": {},
   "outputs": [
    {
     "data": {
      "text/plain": [
       "3.196986763157114"
      ]
     },
     "execution_count": 35,
     "metadata": {},
     "output_type": "execute_result"
    }
   ],
   "source": [
    "mean_absolute_error(myreg.predict(X_test), y_test)"
   ]
  },
  {
   "cell_type": "code",
   "execution_count": 36,
   "metadata": {},
   "outputs": [
    {
     "data": {
      "text/plain": [
       "3.1915089722748045"
      ]
     },
     "execution_count": 36,
     "metadata": {},
     "output_type": "execute_result"
    }
   ],
   "source": [
    "mean_absolute_error(reg.predict(X_test), y_test)"
   ]
  },
  {
   "cell_type": "markdown",
   "metadata": {
    "collapsed": true
   },
   "source": [
    "### 3 (3 балла). \n",
    "Линейная регрессия зачастую легко переобучается - модель необходимо штрафовать за величину весов; для этого применяют L1 и L2 регуляризацию: добавление нормы весов к функции потерь. В случае L2-регулязации функционал будет выглядеть как\n",
    "\n",
    "$$ L = (Xw - y)^T(Xw - y) + \\lambda||w||_2 $$.\n",
    "\n",
    "Параметр $\\lambda$ подбирается на отложенной выборке или по кросс-валидации.\n",
    "\n",
    "* Реализуйте обучение линейной регрессии с L2-регуляризацией\n",
    "* Найдите оптимальный с точки зрения метрики MAE коэффициент $\\lambda$ (по кросс-валидации)\n",
    "* Постройте график зависимости метрики на тестовой выборке от $\\lambda$ (__подпишите оси__)\n",
    "* Сравните результаты с Ridge регрессией из sklearn (аналогично пункту 2)."
   ]
  },
  {
   "cell_type": "code",
   "execution_count": 37,
   "metadata": {},
   "outputs": [],
   "source": [
    "class LinRegL2():\n",
    "    def __init__(self, step_size=0.1, num_steps=20, eps=1e-6, lamb = 0.1):\n",
    "        self.w = None\n",
    "        self.step_size = step_size\n",
    "        self.num_steps = num_steps\n",
    "        self.lamb = lamb\n",
    "        self.eps = eps\n",
    "   \n",
    "    def __calc_grad(self, X_train, y_train):\n",
    "        self.w -= self.step_size * (np.dot(2 / X_train.shape[0] * X_train.T, np.transpose(np.dot(X_train, self.w)) - y_train))+ 2 * self.lamb * self.w\n",
    "   \n",
    "    def fit(self, X_train, y_train):\n",
    "        self.w = np.zeros(X_train.shape[1])\n",
    "        for i in range(self.num_steps):\n",
    "            w_cur = self.w.copy()\n",
    "            self.__calc_grad(X_train,y_train)\n",
    "            if np.linalg.norm(self.w - w_cur) < self.eps:\n",
    "                break\n",
    "        return self\n",
    "       \n",
    "    def predict(self, X_test):\n",
    "        return np.dot(X_test, self.w)"
   ]
  },
  {
   "cell_type": "code",
   "execution_count": 38,
   "metadata": {},
   "outputs": [],
   "source": [
    "from sklearn.model_selection import KFold"
   ]
  },
  {
   "cell_type": "code",
   "execution_count": 39,
   "metadata": {},
   "outputs": [],
   "source": [
    "#Кросс-валидация по k блокам\n",
    "kfold = KFold(n_splits = 5, random_state = 42)\n",
    "lamb_val = np.linspace(1, 10, 10) / 1000"
   ]
  },
  {
   "cell_type": "code",
   "execution_count": 40,
   "metadata": {},
   "outputs": [
    {
     "name": "stdout",
     "output_type": "stream",
     "text": [
      "lamb: 0.001\n",
      "Average cross-validation score: 3.404156667\n",
      "lamb: 0.002\n",
      "Average cross-validation score: 3.475100820\n",
      "lamb: 0.003\n",
      "Average cross-validation score: 3.591437641\n",
      "lamb: 0.004\n",
      "Average cross-validation score: 3.713979646\n",
      "lamb: 0.005\n",
      "Average cross-validation score: 3.827436603\n",
      "lamb: 0.006\n",
      "Average cross-validation score: 3.933805156\n",
      "lamb: 0.007\n",
      "Average cross-validation score: 4.039227653\n",
      "lamb: 0.008\n",
      "Average cross-validation score: 4.146695242\n",
      "lamb: 0.009\n",
      "Average cross-validation score: 4.254466114\n",
      "lamb: 0.01\n",
      "Average cross-validation score: 4.364190740\n"
     ]
    }
   ],
   "source": [
    "for lamb in lamb_val:\n",
    "    scores = []\n",
    "    for train_k, test_k in kfold.split(X_train, y_train):\n",
    "        myreg_l2 = LinRegL2(num_steps=250, eps=1e-6, lamb=lamb)\n",
    "        myreg_l2.fit(X_train[train_k], y_train[train_k])\n",
    "        scores.append(mean_absolute_error(myreg_l2.predict(X_train[test_k]), y_train[test_k]))\n",
    "    print(\"lamb: {}\".format(lamb))\n",
    "    print(\"Average cross-validation score: {:.9f}\".format(np.mean(scores)))"
   ]
  },
  {
   "cell_type": "markdown",
   "metadata": {},
   "source": [
    "После прохождения тестирования на каждом блоке, кросс валидация показала оптимальное, с точки зрения метрики MAE коэффицент лямбды, равный 0.001"
   ]
  },
  {
   "cell_type": "code",
   "execution_count": 41,
   "metadata": {},
   "outputs": [
    {
     "data": {
      "text/plain": [
       "<__main__.LinRegL2 at 0x22406ef9048>"
      ]
     },
     "execution_count": 41,
     "metadata": {},
     "output_type": "execute_result"
    }
   ],
   "source": [
    "myreg_l2 = LinRegL2(num_steps=250, eps=1e-6, lamb=0.001)\n",
    "myreg_l2.fit(X_train, y_train)"
   ]
  },
  {
   "cell_type": "code",
   "execution_count": 47,
   "metadata": {},
   "outputs": [],
   "source": [
    "mae_val = {}\n",
    "for lamb in lamb_val:\n",
    "    myreg_l2 = LinRegL2(num_steps=250, lamb=lamb)\n",
    "    myreg_l2.fit(X_train, y_train)\n",
    "    mae_val[lamb] = mean_absolute_error(myreg_l2.predict(X_test), y_test)"
   ]
  },
  {
   "cell_type": "code",
   "execution_count": 79,
   "metadata": {},
   "outputs": [
    {
     "data": {
      "image/png": "[encoded data removed]",
      "text/plain": [
       "<matplotlib.figure.Figure at 0x224075cc6a0>"
      ]
     },
     "metadata": {},
     "output_type": "display_data"
    }
   ],
   "source": [
    "plt.figure(figsize=(15, 9))\n",
    "plt.plot(list(mae_val.keys()),list(mae_val.values()), color = 'darkmagenta')\n",
    "plt.xlabel('Lambda', fontsize='large', fontweight='bold')\n",
    "plt.ylabel('MAE',fontsize='large', fontweight='bold')\n",
    "plt.title('Dependence between lambda and MAE',fontsize='large', fontweight='bold')\n",
    "plt.grid(True)\n",
    "plt.show()"
   ]
  },
  {
   "cell_type": "code",
   "execution_count": null,
   "metadata": {},
   "outputs": [],
   "source": [
    "from sklearn.linear_model import Ridge"
   ]
  },
  {
   "cell_type": "code",
   "execution_count": null,
   "metadata": {},
   "outputs": [],
   "source": [
    "ridge_skl = Ridge(alpha=0.001, random_state=42) #Берем тот же параметр лямбды\n",
    "ridge_skl.fit(X_train,y_train)"
   ]
  },
  {
   "cell_type": "markdown",
   "metadata": {},
   "source": [
    "Сравнение результатов с точки зрения метрики MAE с Ridge регрессией из sklearn "
   ]
  },
  {
   "cell_type": "code",
   "execution_count": null,
   "metadata": {},
   "outputs": [],
   "source": [
    "mean_absolute_error(ridge.predict(X_test), y_test)"
   ]
  },
  {
   "cell_type": "code",
   "execution_count": 869,
   "metadata": {},
   "outputs": [
    {
     "data": {
      "text/plain": [
       "3.1970192260995987"
      ]
     },
     "execution_count": 869,
     "metadata": {},
     "output_type": "execute_result"
    }
   ],
   "source": [
    "mean_absolute_error(myreg_l2.predict(X_test), y_test)"
   ]
  },
  {
   "cell_type": "markdown",
   "metadata": {},
   "source": [
    "### 4 (Бонус, 4 балла). \n",
    "* Реализуйте обучение линейной регрессии с L1-регуляризацией (класс RegL1)\n",
    "* Проведите сравнения аналогично пункту 3 (но с Lasso вместо Ridge)."
   ]
  },
  {
   "cell_type": "code",
   "execution_count": 5,
   "metadata": {},
   "outputs": [],
   "source": [
    "# your code here"
   ]
  },
  {
   "cell_type": "markdown",
   "metadata": {},
   "source": [
    "### 5 (Бонус, 2 балла). \n",
    "Исследуйте для реализации регрессии с L2-регуляризацией зависимость качества на тестовой выборке (с графиками) от:\n",
    "* Длины шага\n",
    "* Количества шагов спуска\n",
    "* Константы epsilon."
   ]
  },
  {
   "cell_type": "code",
   "execution_count": 6,
   "metadata": {},
   "outputs": [],
   "source": [
    "# your code here"
   ]
  },
  {
   "cell_type": "markdown",
   "metadata": {},
   "source": [
    "### 6 (Бонус, 0 баллов). \n",
    "Вставьте сюда любимую картинку, которая сможет поднять настроение ассистенту и семинаристу"
   ]
  }
 ],
 "metadata": {
  "kernelspec": {
   "display_name": "Python 3",
   "language": "python",
   "name": "python3"
  },
  "language_info": {
   "codemirror_mode": {
    "name": "ipython",
    "version": 3
   },
   "file_extension": ".py",
   "mimetype": "text/x-python",
   "name": "python",
   "nbconvert_exporter": "python",
   "pygments_lexer": "ipython3",
   "version": "3.6.4"
  }
 },
 "nbformat": 4,
 "nbformat_minor": 2
}
